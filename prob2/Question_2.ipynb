{
 "cells": [
  {
   "cell_type": "markdown",
   "metadata": {},
   "source": [
    "Question 2"
   ]
  },
  {
   "cell_type": "code",
   "execution_count": 1,
   "metadata": {},
   "outputs": [],
   "source": [
    "import numpy as np"
   ]
  },
  {
   "cell_type": "code",
   "execution_count": 2,
   "metadata": {},
   "outputs": [],
   "source": [
    "#function to round to 5 sig figs\n",
    "def round_5_sigfigs(x):\n",
    "    x = '{:.5g}'.format(x)\n",
    "    x = float(x)\n",
    "    return x\n",
    "\n"
   ]
  },
  {
   "cell_type": "code",
   "execution_count": 3,
   "metadata": {},
   "outputs": [
    {
     "name": "stdout",
     "output_type": "stream",
     "text": [
      "Numerators:\n",
      " ['1.0000e+00', '5.5000e+00', '3.0250e+01', '1.6638e+02', '9.1509e+02', '5.0330e+03', '2.7682e+04', '1.5225e+05', '8.3738e+05', '4.6056e+06', '2.5331e+07', '1.3932e+08', '7.6626e+08', '4.2144e+09', '2.3179e+10', '1.2748e+11', '7.0114e+11', '3.8563e+12', '2.1210e+13', '1.1666e+14', '6.4163e+14', '3.5290e+15', '1.9410e+16', '1.0676e+17', '5.8718e+17', '3.2295e+18', '1.7762e+19', '9.7691e+19', '5.3730e+20', '2.9551e+21', '1.6253e+22'] \n",
      "\n",
      "Denominators:\n",
      " ['1.0000e+00', '1.0000e+00', '2.0000e+00', '6.0000e+00', '2.4000e+01', '1.2000e+02', '7.2000e+02', '5.0400e+03', '4.0320e+04', '3.6288e+05', '3.6288e+06', '3.9917e+07', '4.7900e+08', '6.2270e+09', '8.7178e+10', '1.3077e+12', '2.0923e+13', '3.5569e+14', '6.4024e+15', '1.2165e+17', '2.4330e+18', '5.1093e+19', '1.1240e+21', '2.5852e+22', '6.2045e+23', '1.5511e+25', '4.0329e+26', '1.0889e+28', '3.0489e+29', '8.8418e+30', '2.6525e+32']\n",
      "\n",
      "Terms in series:\n",
      " ['1.0000e+00', '5.5000e+00', '1.5125e+01', '2.7730e+01', '3.8129e+01', '4.1942e+01', '3.8447e+01', '3.0208e+01', '2.0768e+01', '1.2692e+01', '6.9805e+00', '3.4902e+00', '1.5997e+00', '6.7679e-01', '2.6588e-01', '9.7484e-02', '3.3510e-02', '1.0842e-02', '3.3128e-03', '9.5898e-04', '2.6372e-04', '6.9070e-05', '1.7269e-05', '4.1297e-06', '9.4638e-07', '2.0821e-07', '4.4043e-08', '8.9715e-09', '1.7623e-09', '3.3422e-10', '6.1274e-11']\n",
      "\n"
     ]
    }
   ],
   "source": [
    "#2 (a)\n",
    "\n",
    "exp=5.5\n",
    "k=30 # number of terms in series\n",
    "#use exponent notation so readable\n",
    "numerator = ['{:.4e}'.format(1.)] #create lists and append to them\n",
    "denominator = ['{:.4e}'.format(1.)]\n",
    "seriesterm = ['{:.4e}'.format(1.)]\n",
    "\n",
    "for n in range(1,k+1):\n",
    "    #treat exponentiation as repeated multiplication, so multiply by numerator of previous term\n",
    "    tempnum=float(numerator[n-1])*round_5_sigfigs(exp) #previous numerator already has 5 sigfigs\n",
    "    numerator.append('{:.4e}'.format(tempnum)) #append to list of numerators\n",
    "    \n",
    "    #same trick for denomenator\n",
    "    tempden=float(denominator[n-1])*round_5_sigfigs(float(n))\n",
    "    denominator.append('{:.4e}'.format(tempden))\n",
    "    \n",
    "    tempseries=round_5_sigfigs(float(numerator[n])/float(denominator[n] ))\n",
    "    seriesterm.append('{:.4e}'.format(tempseries))\n",
    "    \n",
    "\n",
    "print('Numerators:\\n {} \\n'.format(numerator))\n",
    "print('Denominators:\\n {}\\n'.format(denominator))\n",
    "print('Terms in series:\\n {}\\n'.format(seriesterm))"
   ]
  },
  {
   "cell_type": "code",
   "execution_count": 4,
   "metadata": {},
   "outputs": [
    {
     "name": "stdout",
     "output_type": "stream",
     "text": [
      "Partial sums:\n",
      " ['1.0000e+00', '6.5000e+00', '2.1625e+01', '4.9355e+01', '8.7484e+01', '1.2943e+02', '1.6788e+02', '1.9809e+02', '2.1886e+02', '2.3155e+02', '2.3853e+02', '2.4202e+02', '2.4362e+02', '2.4430e+02', '2.4457e+02', '2.4467e+02', '2.4470e+02', '2.4471e+02', '2.4471e+02', '2.4471e+02', '2.4471e+02', '2.4471e+02', '2.4471e+02', '2.4471e+02', '2.4471e+02', '2.4471e+02', '2.4471e+02', '2.4471e+02', '2.4471e+02', '2.4471e+02', '2.4471e+02'] \n",
      "\n",
      "Series converged at   k=18 \n",
      "\n",
      "This method computes exp(5.5)=2.4471e+02, np.exp(5.5)=2.4469193226e+02 \n",
      "\n",
      "The relative error is 7.383870654188337e-05 \n",
      "\n"
     ]
    }
   ],
   "source": [
    "#2 (b)\n",
    "\n",
    "exp=5.5\n",
    "k=30 # number of terms in series\n",
    "\n",
    "partialsums = ['{:.4e}'.format(1.)]\n",
    "prevsum=1. #keep track of previous value of sum\n",
    "n_converge=None\n",
    "for n in range(1,k+1):\n",
    "    currentsum = round_5_sigfigs(prevsum+float(seriesterm[n]))\n",
    "    partialsums.append('{:.4e}'.format(currentsum))\n",
    "    #check if prevsum is the same, if so, series has converged\n",
    "    if prevsum == currentsum and n_converge is None:\n",
    "        n_converge = n #starts from zero\n",
    "\n",
    "    prevsum = currentsum #update previous sum\n",
    "\n",
    "\n",
    "print('Partial sums:\\n {} \\n'.format(partialsums))\n",
    "\n",
    "print('Series converged at   k={} \\n'.format(n_converge))\n",
    "\n",
    "percise_exp=np.exp(5.5)\n",
    "print('This method computes exp(5.5)={}, np.exp(5.5)={:.10e} \\n'.format(\n",
    "    partialsums[n_converge],percise_exp ))\n",
    "\n",
    "rel_error=np.abs(percise_exp-float(partialsums[n_converge]))/percise_exp\n",
    "print('The relative error is {} \\n'.format(rel_error))\n"
   ]
  },
  {
   "cell_type": "code",
   "execution_count": 5,
   "metadata": {},
   "outputs": [
    {
     "name": "stdout",
     "output_type": "stream",
     "text": [
      "Partial sums from right to left:\n",
      " ['1.0000e+00', '6.5000e+00', '2.1625e+01', '4.9355e+01', '8.7484e+01', '1.2942e+02', '1.6788e+02', '1.9809e+02', '2.1885e+02', '2.3154e+02', '2.3851e+02', '2.4201e+02', '2.4362e+02', '2.4428e+02', '2.4456e+02', '2.4466e+02', '2.4469e+02', '2.4469e+02', '2.4469e+02', '2.4469e+02', '2.4469e+02', '2.4471e+02', '2.4471e+02', '2.4471e+02', '2.4471e+02', '2.4471e+02', '2.4471e+02', '2.4471e+02', '2.4471e+02', '2.4471e+02', '2.4471e+02'] \n",
      "\n",
      "Series converged at  k=17 \n",
      "\n",
      "right to left computes exp(5.5)=2.4469e+02, np.exp(5.5)=2.4469193226e+02 \n",
      "\n",
      "The relative error right to left is 7.896722227439787e-06 \n",
      "\n",
      "Partial sums coverge 1 k sooner, and final result is closer to percise value and relative error is thus reduced\n"
     ]
    }
   ],
   "source": [
    "#2 (c)\n",
    "\n",
    "exp=5.5\n",
    "k=30 # number of terms in series\n",
    "\n",
    "partialsums_b = ['{:.4e}'.format(1.)]\n",
    "prevsum=1. #keep track of previous value of sum\n",
    "n_converge_b=None\n",
    "\n",
    "for n in range(1,k+1):\n",
    "    tempsum=0.\n",
    "    for ind in range(n, -1, -1): #do sum backwards for each partial sum\n",
    "        tempsum =round_5_sigfigs(tempsum+float(seriesterm[ind]))\n",
    "\n",
    "    currentsum = round_5_sigfigs(tempsum)\n",
    "    partialsums_b.append('{:.4e}'.format(currentsum))\n",
    "    #check if prevsum is the same, if so, series has converged\n",
    "    if prevsum == currentsum and n_converge_b is None:\n",
    "        n_converge_b = n\n",
    "        \n",
    "\n",
    "    prevsum = currentsum #update previous sum\n",
    "\n",
    "print('Partial sums from right to left:\\n {} \\n'.format(partialsums_b))\n",
    "\n",
    "\n",
    "if n_converge_b is None:\n",
    "    n_converge_b=k\n",
    "print('Series converged at  k={} \\n'.format(n_converge_b))\n",
    "\n",
    "percise_exp=np.exp(5.5)\n",
    "print('right to left computes exp(5.5)={}, np.exp(5.5)={:.10e} \\n'.format(partialsums_b[n_converge_b],percise_exp ))\n",
    "\n",
    "rel_error_b=np.abs(percise_exp-float(partialsums_b[n_converge_b]))/percise_exp\n",
    "print('The relative error right to left is {} \\n'.format(rel_error_b))\n",
    "\n",
    "print('Partial sums coverge 1 k sooner,'\n",
    "      ' and final result is closer to percise value and relative error is thus reduced')\n"
   ]
  },
  {
   "cell_type": "code",
   "execution_count": 6,
   "metadata": {},
   "outputs": [
    {
     "name": "stdout",
     "output_type": "stream",
     "text": [
      "Partial sums:\n",
      " ['1.0000e+00', '-4.5000e+00', '1.0625e+01', '-1.7105e+01', '2.1024e+01', '-2.0918e+01', '1.7529e+01', '-1.2679e+01', '8.0890e+00', '-4.6030e+00', '2.3775e+00', '-1.1127e+00', '4.8700e-01', '-1.8979e-01', '7.6090e-02', '-2.1394e-02', '1.2116e-02', '1.2740e-03', '4.5868e-03', '3.6278e-03', '3.8915e-03', '3.8224e-03', '3.8397e-03', '3.8356e-03', '3.8365e-03', '3.8363e-03', '3.8363e-03', '3.8363e-03', '3.8363e-03', '3.8363e-03', '3.8363e-03'] \n",
      "\n",
      "Series converged at   k=26 \n",
      "\n",
      "This method computes exp(-5.5)=3.8363e-03, np.exp(-5.5)=4.0867714385e-03 \n",
      "\n",
      "The relative error is 0.06128834025477125 \n",
      "\n"
     ]
    }
   ],
   "source": [
    "#2 (d) setup\n",
    "exp_n=-5.5\n",
    "series_n=[]\n",
    "#first change partial sums\n",
    "for n in range(k+1):\n",
    "    tempnegseries=float(seriesterm[n])\n",
    "    if n & 1: #if odd, flip sign\n",
    "        tempnegseries=-tempnegseries\n",
    "    series_n.append('{:.4e}'.format(tempnegseries))\n",
    "\n",
    "#2 (d) i, adding left to right\n",
    "partialsumsf_n = ['{:.4e}'.format(1.)]\n",
    "prevsum=1. #keep track of previous value of sum\n",
    "n_convergef_n=None\n",
    "for n in range(1,k+1):\n",
    "    currentsum = round_5_sigfigs(prevsum+float(series_n[n]))\n",
    "    partialsumsf_n.append('{:.4e}'.format(currentsum))\n",
    "    #check if prevsum is the same, if so, series has converged\n",
    "    if prevsum == currentsum and n_convergef_n is None:\n",
    "        n_convergef_n = n #starts from zero\n",
    "    prevsum = currentsum #update previous sum\n",
    "    \n",
    "print('Partial sums:\\n {} \\n'.format(partialsumsf_n))\n",
    "print('Series converged at   k={} \\n'.format(n_convergef_n))\n",
    "percise_exp=np.exp(-5.5)\n",
    "print('This method computes exp(-5.5)={}, np.exp(-5.5)={:.10e} \\n'.format(\n",
    "    partialsumsf_n[n_convergef_n],percise_exp ))\n",
    "rel_error=np.abs(percise_exp-float(partialsumsf_n[n_convergef_n]))/percise_exp\n",
    "print('The relative error is {} \\n'.format(rel_error))\n"
   ]
  },
  {
   "cell_type": "code",
   "execution_count": 7,
   "metadata": {},
   "outputs": [
    {
     "name": "stdout",
     "output_type": "stream",
     "text": [
      "Partial sums from right to left:\n",
      " ['1.0000e+00', '-4.5000e+00', '1.0625e+01', '-1.7105e+01', '2.1024e+01', '-2.0918e+01', '1.7529e+01', '-1.2679e+01', '8.0890e+00', '-4.6030e+00', '2.3770e+00', '-1.1130e+00', '4.8700e-01', '-1.9000e-01', '7.6000e-02', '-2.1000e-02', '1.2000e-02', '1.0000e-03', '5.0000e-03', '4.0000e-03', '4.0000e-03', '4.0000e-03', '4.0000e-03', '4.0000e-03', '4.0000e-03', '4.0000e-03', '4.0000e-03', '4.0000e-03', '4.0000e-03', '4.0000e-03', '4.0000e-03'] \n",
      "\n",
      "Series converged at  k=20 \n",
      "\n",
      "right to left computes exp(-5.5)=4.0000e-03, np.exp(-5.5)=4.0867714385e-03 \n",
      "\n",
      "The relative error right to left is 0.021232270943118334 \n",
      "\n",
      "Partial sums again converge sooner, the final result is closer to percise value and relative error is thus reduced\n"
     ]
    }
   ],
   "source": [
    "#2 (d) ii, adding right to left\n",
    "partialsums_nb = ['{:.4e}'.format(1.)]\n",
    "prevsum=1. #keep track of previous value of sum\n",
    "n_converge_nb=None\n",
    "\n",
    "for n in range(1,k+1):\n",
    "    tempsum=0.\n",
    "    for ind in range(n, -1, -1): #do sum backwards for each partial sum\n",
    "        tempsum =round_5_sigfigs(tempsum+float(series_n[ind]))\n",
    "\n",
    "    currentsum = round_5_sigfigs(tempsum)\n",
    "    partialsums_nb.append('{:.4e}'.format(currentsum))\n",
    "    #check if prevsum is the same, if so, series has converged\n",
    "    if prevsum == currentsum and n_converge_nb is None:\n",
    "        n_converge_nb = n\n",
    "        \n",
    "    prevsum = currentsum #update previous sum\n",
    "\n",
    "print('Partial sums from right to left:\\n {} \\n'.format(partialsums_nb))\n",
    "if n_converge_nb is None:\n",
    "    n_converge_nb=k\n",
    "print('Series converged at  k={} \\n'.format(n_converge_nb))\n",
    "percise_exp=np.exp(-5.5)\n",
    "print('right to left computes exp(-5.5)={}, np.exp(-5.5)={:.10e} \\n'.format(partialsums_nb[n_converge_nb],percise_exp ))\n",
    "rel_error_nb=np.abs(percise_exp-float(partialsums_nb[n_converge_nb]))/percise_exp\n",
    "print('The relative error right to left is {} \\n'.format(rel_error_nb))\n",
    "print('Partial sums again converge sooner,'\n",
    "      ' the final result is closer to percise value and relative error is thus reduced')"
   ]
  },
  {
   "cell_type": "code",
   "execution_count": 8,
   "metadata": {},
   "outputs": [
    {
     "name": "stdout",
     "output_type": "stream",
     "text": [
      "Partial sums:\n",
      " ['1.0000e+00', '-4.5000e+00', '1.0625e+01', '-1.7105e+01', '2.1024e+01', '-2.0918e+01', '1.7529e+01', '-1.2679e+01', '8.0900e+00', '-4.6000e+00', '2.3800e+00', '-1.1100e+00', '4.9000e-01', '-1.9000e-01', '8.0000e-02', '-2.0000e-02', '1.0000e-02', '0.0000e+00', '0.0000e+00', '0.0000e+00', '0.0000e+00', '0.0000e+00', '0.0000e+00', '0.0000e+00', '0.0000e+00', '0.0000e+00', '0.0000e+00', '0.0000e+00', '0.0000e+00', '0.0000e+00', '0.0000e+00'] \n",
      "\n",
      "Series converged at   k=18 \n",
      "\n",
      "This method computes exp(-5.5)=0.0000e+00, np.exp(-5.5)=4.0867714385e-03 \n",
      "\n",
      "The relative error is 1.0 \n",
      "\n"
     ]
    }
   ],
   "source": [
    "#2 (d) iii, adding positive and negative terms seperately\n",
    "partialsums_ns = ['{:.4e}'.format(1.)]\n",
    "prevsum=1. #keep track of previous value of sum\n",
    "n_converge_ns=None\n",
    "for n in range(1,k+1):\n",
    "    tempsumev=0. #do < 0 and >0 sums seperately\n",
    "    tempsumodd=0.\n",
    "    for ind in range(n+1): \n",
    "        if float(series_n[ind])<0: #if odd, term is less than zero, add to odd sum\n",
    "            tempsumodd=round_5_sigfigs(tempsumodd+float(series_n[ind]))\n",
    "        else:\n",
    "            tempsumev=round_5_sigfigs(tempsumev+float(series_n[ind]))\n",
    "\n",
    "    currentsum =round_5_sigfigs(tempsumodd+tempsumev)\n",
    "    partialsums_ns.append('{:.4e}'.format(currentsum))\n",
    "    if prevsum == currentsum and n_converge_ns is None:\n",
    "        n_converge_ns = n #starts from zero\n",
    "        \n",
    "    prevsum = currentsum #update previous sum\n",
    "    \n",
    "print('Partial sums:\\n {} \\n'.format(partialsums_ns))\n",
    "print('Series converged at   k={} \\n'.format(n_converge_ns))\n",
    "percise_exp=np.exp(-5.5)\n",
    "print('This method computes exp(-5.5)={}, np.exp(-5.5)={:.10e} \\n'.format(\n",
    "    partialsums_ns[n_converge_ns],percise_exp ))\n",
    "rel_error=np.abs(percise_exp-float(partialsums_ns[n_converge_ns]))/percise_exp\n",
    "print('The relative error is {} \\n'.format(rel_error))\n"
   ]
  },
  {
   "cell_type": "code",
   "execution_count": 9,
   "metadata": {},
   "outputs": [
    {
     "name": "stdout",
     "output_type": "stream",
     "text": [
      "Partial sums:\n",
      " ['1.0000e+00', '-4.5000e+00', '1.0625e+01', '-1.7105e+01', '2.1024e+01', '-2.0918e+01', '1.7529e+01', '-1.2679e+01', '8.0900e+00', '-4.6000e+00', '2.3700e+00', '-1.1200e+00', '4.9000e-01', '-1.9000e-01', '7.0000e-02', '-3.0000e-02', '0.0000e+00', '-1.0000e-02', '1.0000e-02', '1.0000e-02', '1.0000e-02', '1.0000e-02', '1.0000e-02', '1.0000e-02', '1.0000e-02', '1.0000e-02', '1.0000e-02', '1.0000e-02', '1.0000e-02', '1.0000e-02', '1.0000e-02'] \n",
      "\n",
      "Series converged at   k=19 \n",
      "\n",
      "This method computes exp(-5.5)=1.0000e-02, np.exp(-5.5)=4.0867714385e-03 \n",
      "\n",
      "The relative error is 1.4469193226422041 \n",
      "\n"
     ]
    }
   ],
   "source": [
    "#2 (d) iv, adding positive and negative terms seperately and going backwards\n",
    "partialsums_nsb = ['{:.4e}'.format(1.)]\n",
    "prevsum=1. #keep track of previous value of sum\n",
    "n_converge_nsb=None\n",
    "for n in range(1,k+1):\n",
    "    tempsumev=0. #do < 0 and >0 sums seperately\n",
    "    tempsumodd=0.\n",
    "    for ind in range(n, -1, -1): \n",
    "        if float(series_n[ind])<0: #if odd, term is less than zero, add to odd sum\n",
    "            tempsumodd=round_5_sigfigs(tempsumodd+float(series_n[ind]))\n",
    "        else:\n",
    "            tempsumev=round_5_sigfigs(tempsumev+float(series_n[ind]))\n",
    "\n",
    "    currentsum =round_5_sigfigs(tempsumodd+tempsumev)\n",
    "    partialsums_nsb.append('{:.4e}'.format(currentsum))\n",
    "    if prevsum == currentsum and n_converge_nsb is None:\n",
    "        n_converge_nsb = n #starts from zero\n",
    "        \n",
    "    prevsum = currentsum #update previous sum\n",
    "    \n",
    "print('Partial sums:\\n {} \\n'.format(partialsums_nsb))\n",
    "print('Series converged at   k={} \\n'.format(n_converge_nsb))\n",
    "percise_exp=np.exp(-5.5)\n",
    "print('This method computes exp(-5.5)={}, np.exp(-5.5)={:.10e} \\n'.format(\n",
    "    partialsums_nsb[n_converge_nsb],percise_exp ))\n",
    "rel_error=np.abs(percise_exp-float(partialsums_nsb[n_converge_nsb]))/percise_exp\n",
    "print('The relative error is {} \\n'.format(rel_error))\n"
   ]
  },
  {
   "cell_type": "markdown",
   "metadata": {},
   "source": [
    "2(d) closing notes:  method iii converged most quickly but failed, giving $e^{-5.5}=0$.  method ii, adding from right to left, had the lowest error.  This is consistent with what was seen with $e^{+5.5}$.\n",
    "\n",
    "2(e)  It is more accurate to simply invert the answer from 2(c).  In particular, compute $e^{5.5}$ adding terms in the partial sum from right to left, then computing $e^{-5.5}=1/e^{-5.5}$.  This is shown below"
   ]
  },
  {
   "cell_type": "code",
   "execution_count": 10,
   "metadata": {},
   "outputs": [
    {
     "name": "stdout",
     "output_type": "stream",
     "text": [
      "This method computes exp(-5.5)=4.0868e-03, np.exp(-5.5)=4.0867714385e-03 \n",
      "\n",
      "The relative error is 6.988777415931331e-06, which is much better than all previous methods\n",
      "\n"
     ]
    }
   ],
   "source": [
    "#2(e)\n",
    "#e^5.5 as calculated summing right to left, as in 2(c)\n",
    "exp5p5_est=float(partialsums_b[n_converge_b])\n",
    "\n",
    "exp_est=round_5_sigfigs(1./exp5p5_est)\n",
    "\n",
    "percise_exp=np.exp(-5.5)\n",
    "print('This method computes exp(-5.5)={:.4e}, np.exp(-5.5)={:.10e} \\n'.format(\n",
    "    exp_est,percise_exp ))\n",
    "rel_error=np.abs(percise_exp-exp_est)/percise_exp\n",
    "print('The relative error is {}, which is much better than all previous methods\\n'.format(rel_error))\n"
   ]
  },
  {
   "cell_type": "code",
   "execution_count": null,
   "metadata": {},
   "outputs": [],
   "source": []
  }
 ],
 "metadata": {
  "kernelspec": {
   "display_name": "Python 3",
   "language": "python",
   "name": "python3"
  },
  "language_info": {
   "codemirror_mode": {
    "name": "ipython",
    "version": 3
   },
   "file_extension": ".py",
   "mimetype": "text/x-python",
   "name": "python",
   "nbconvert_exporter": "python",
   "pygments_lexer": "ipython3",
   "version": "3.6.5"
  }
 },
 "nbformat": 4,
 "nbformat_minor": 2
}
