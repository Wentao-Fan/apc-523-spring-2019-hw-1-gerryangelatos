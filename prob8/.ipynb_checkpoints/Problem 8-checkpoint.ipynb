{
 "cells": [
  {
   "cell_type": "markdown",
   "metadata": {},
   "source": [
    "Problem 8"
   ]
  },
  {
   "cell_type": "code",
   "execution_count": 18,
   "metadata": {},
   "outputs": [],
   "source": [
    "import numpy as np\n",
    "import sys"
   ]
  },
  {
   "cell_type": "code",
   "execution_count": 30,
   "metadata": {},
   "outputs": [
    {
     "name": "stdout",
     "output_type": "stream",
     "text": [
      "Need N=32 to acheive this error in y_20\n"
     ]
    }
   ],
   "source": [
    "\n",
    "#8(c)\n",
    "\n",
    "\n",
    "epsilon=sys.float_info.epsilon\n",
    "k = 20\n",
    "Nfact=np.math.factorial(20)/epsilon\n",
    "Nguess=0\n",
    "Nguessf=np.math.factorial(Nguess)\n",
    "while Nguessf<Nfact:\n",
    "    Nguess+=1\n",
    "    Nguessf=np.math.factorial(Nguess)\n",
    "    \n",
    "N=Nguess\n",
    "# np.math.factorial(Nguess-1)-Nfact #test that we have the right N\n",
    "print('Need N={} to acheive this error in y_20'.format(N))"
   ]
  },
  {
   "cell_type": "code",
   "execution_count": 62,
   "metadata": {},
   "outputs": [
    {
     "name": "stdout",
     "output_type": "stream",
     "text": [
      "\n",
      " The backwards recurrance relation yeilds y_20 = 0.12380383076256993 \n",
      "\n",
      "\n",
      " Numerical integration: y_20 = 0.12380383123827879 \n",
      "\n",
      "\n",
      " Wolfram alpha: y_20 = 0.12380383076256996 \n",
      "\n",
      "\n",
      " backwards integration y_20 - wolfram y_20: 2.7755575615628914e-17 \n",
      " eps: 2.220446049250313e-16\n"
     ]
    }
   ],
   "source": [
    "# 8(d)\n",
    "\n",
    "\n",
    "y20back=0 #initial value at N=32\n",
    "for k in range(N, 20, -1): #loop backwards, updating y each time\n",
    "#     print(k)\n",
    "    y20back=(np.exp(1)-y20back)/(k) #using k=n+1, so at final step computing n=20 using k=20+1\n",
    "    \n",
    "print('\\n The backwards recurrance relation yeilds y_20 = {} \\n'.format(y20back))\n",
    "\n",
    "x=np.linspace(0., 1., int(1e5))\n",
    "y20int=np.trapz(np.exp(x)*x**20, x=x)\n",
    "print('\\n Numerical integration: y_20 = {} \\n'.format(y20int))\n",
    "\n",
    "y20wolfram = 0.12380383076256994869 #value from wolfram alpha\n",
    "\n",
    "print('\\n Wolfram alpha: y_20 = {} \\n'.format(y20wolfram))\n",
    "\n",
    "print('\\n backwards integration y_20 - wolfram y_20: {} \\n eps: {}'.format(abs(y20wolfram-y20back), epsilon))"
   ]
  },
  {
   "cell_type": "markdown",
   "metadata": {},
   "source": [
    "We see that the backwards recurrence relation is very accurate even starting with an incorrect seed of $y_{32}=0$.  The recurrence relation computed $y_{20}$ whose error with respect to the precise answer from Wolfram Alpha is less than the machine epsilon, and is much better than the $y_{20}$ calculated via numerical integration.\n"
   ]
  }
 ],
 "metadata": {
  "kernelspec": {
   "display_name": "Python 3",
   "language": "python",
   "name": "python3"
  },
  "language_info": {
   "codemirror_mode": {
    "name": "ipython",
    "version": 3
   },
   "file_extension": ".py",
   "mimetype": "text/x-python",
   "name": "python",
   "nbconvert_exporter": "python",
   "pygments_lexer": "ipython3",
   "version": "3.6.5"
  }
 },
 "nbformat": 4,
 "nbformat_minor": 2
}
