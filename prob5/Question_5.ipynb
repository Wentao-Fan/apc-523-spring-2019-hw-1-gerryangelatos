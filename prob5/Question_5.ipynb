{
 "cells": [
  {
   "cell_type": "markdown",
   "metadata": {},
   "source": [
    "Problem 5"
   ]
  },
  {
   "cell_type": "code",
   "execution_count": 1,
   "metadata": {},
   "outputs": [
    {
     "name": "stdout",
     "output_type": "stream",
     "text": [
      "n_stop = 13 \n",
      "\n",
      "converged e = 2.71611003409 \n",
      "\n",
      "Terms in sequence: \n",
      " [1.0, 2.5937424601, 2.704813829422, 2.716923932236, 2.718145926825, 2.718268237192, 2.718280469096, 2.718281694132, 2.718281798347, 2.718282052012, 2.718282053235, 2.718282053357, 2.718523496037, 2.716110034087, 2.716110034087] \n",
      "\n",
      "value of e in numpy: 2.718281828459045 \n",
      "value of e in numpy: 2.718281828459045 \n"
     ]
    }
   ],
   "source": [
    "import numpy as np\n",
    "import sys\n",
    "\n",
    "def round_sigfig(x, sig=12):\n",
    "    ndigits=sig-int(np.floor(np.log10(abs(x))))-1\n",
    "    return round(x, ndigits)\n",
    "\n",
    "n=1 #starting value of n\n",
    "counter=0;\n",
    "sequence = [round_sigfig(1., 12)] #first value in sequence is 1\n",
    "e_prev=np.exp(1) #initial values of e in sequence for while loop, this doesnt matter\n",
    "e_curr=1.\n",
    "\n",
    "while(round_sigfig(e_prev, 12) != round_sigfig(e_curr, 12)):\n",
    "    counter += 1\n",
    "    n = n*10\n",
    "    e_prev = e_curr\n",
    "    e_curr = (1+1/n)**n\n",
    "    sequence.append(round_sigfig(e_curr, 13))\n",
    "\n",
    "\n",
    "    \n",
    "print('n_stop = {} \\n'.format(counter-1))\n",
    "print('converged e = {} \\n'.format(round_sigfig(e_curr, 12)))\n",
    "print('Terms in sequence: \\n {} \\n'.format(sequence))\n",
    "print('value of e in numpy: {} '.format(np.exp(1)))\n",
    "print('value of e in numpy: {} '.format(np.exp(1)))\n"
   ]
  },
  {
   "cell_type": "markdown",
   "metadata": {},
   "source": [
    "The above converged to something somewhat close to $e$, but this isn't actually what I expected to see.\n",
    "I increased the tolerance below and redid the problem"
   ]
  },
  {
   "cell_type": "code",
   "execution_count": 2,
   "metadata": {},
   "outputs": [
    {
     "name": "stdout",
     "output_type": "stream",
     "text": [
      "n_stop = 16 \n",
      "\n",
      "converged e = 1.0 \n",
      "\n",
      "Terms in sequence: \n",
      " [1.0, 2.5937424601, 2.7048138294215, 2.7169239322356, 2.7181459268249, 2.7182682371923, 2.7182804690958, 2.7182816941321, 2.7182817983474, 2.7182820520116, 2.7182820532348, 2.7182820533571, 2.7185234960372, 2.7161100340869, 2.716110034087, 3.0350352065493, 1.0, 1.0] \n",
      "\n",
      "machine epsilon: 2.220446049250313e-16 \n",
      "Note that  1+1e-16=1.0 \n"
     ]
    }
   ],
   "source": [
    "tol=14 #number of sigfigs\n",
    "n=1 #starting value of n\n",
    "counter=0;\n",
    "sequence = [round_sigfig(1., tol)] #first value in sequence is 1\n",
    "e_prev=np.exp(1) #initial values of e in sequence for while loop, this doesnt matter\n",
    "e_curr=1.\n",
    "\n",
    "while(round_sigfig(e_prev, tol) != round_sigfig(e_curr, tol)):\n",
    "    counter += 1\n",
    "    n = n*10\n",
    "    e_prev = e_curr\n",
    "    e_curr = (1+1/n)**n\n",
    "    sequence.append(round_sigfig(e_curr, tol))\n",
    "\n",
    "\n",
    "    \n",
    "print('n_stop = {} \\n'.format(counter-1))\n",
    "print('converged e = {} \\n'.format(round_sigfig(e_curr, tol)))\n",
    "print('Terms in sequence: \\n {} \\n'.format(sequence))\n",
    "print('machine epsilon: {} '.format(sys.float_info.epsilon))\n",
    "print('Note that  1+1e-16={} '.format(1+1/10**16))\n"
   ]
  },
  {
   "cell_type": "markdown",
   "metadata": {},
   "source": [
    "As expected, once $n=10^{16}$, $1/n$ is smaller than $eps/2$ and so $1+1/n=1.0$, which is found for both $n=10^{16}$ and $n=10^{17}$, causing the loop to stop.  For any $n<eps/2$ we have $(1+1/n)^n=1.0$"
   ]
  },
  {
   "cell_type": "code",
   "execution_count": 3,
   "metadata": {},
   "outputs": [
    {
     "data": {
      "text/plain": [
       "1.0"
      ]
     },
     "execution_count": 3,
     "metadata": {},
     "output_type": "execute_result"
    }
   ],
   "source": [
    "1+1/10**16\n",
    "1+1e-16"
   ]
  }
 ],
 "metadata": {
  "kernelspec": {
   "display_name": "Python 3",
   "language": "python",
   "name": "python3"
  },
  "language_info": {
   "codemirror_mode": {
    "name": "ipython",
    "version": 3
   },
   "file_extension": ".py",
   "mimetype": "text/x-python",
   "name": "python",
   "nbconvert_exporter": "python",
   "pygments_lexer": "ipython3",
   "version": "3.6.5"
  }
 },
 "nbformat": 4,
 "nbformat_minor": 2
}
